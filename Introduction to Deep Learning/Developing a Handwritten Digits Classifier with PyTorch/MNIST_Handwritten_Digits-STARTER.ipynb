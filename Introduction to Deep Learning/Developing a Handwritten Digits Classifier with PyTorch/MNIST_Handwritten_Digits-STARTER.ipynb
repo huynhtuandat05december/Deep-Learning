{
 "cells": [
  {
   "cell_type": "markdown",
   "metadata": {},
   "source": [
    "# Introduction\n",
    "\n",
    "In this project, you will build a neural network of your own design to evaluate the MNIST dataset.\n",
    "\n",
    "Some of the benchmark results on MNIST include can be found [on Yann LeCun's page](http://yann.lecun.com/exdb/mnist/) and include:\n",
    "\n",
    "88% [Lecun et al., 1998](http://yann.lecun.com/exdb/publis/pdf/lecun-98.pdf)\n",
    "95.3% [Lecun et al., 1998](http://yann.lecun.com/exdb/publis/pdf/lecun-98.pdf)\n",
    "99.65% [Ciresan et al., 2011](http://people.idsia.ch/~juergen/ijcai2011.pdf)\n",
    "\n",
    "MNIST is a great dataset for sanity checking your models, since the accuracy levels achieved by large convolutional neural networks and small linear models are both quite high. This makes it important to be familiar with the data.\n",
    "\n",
    "## Imports"
   ]
  },
  {
   "cell_type": "code",
   "execution_count": 1,
   "metadata": {},
   "outputs": [
    {
     "name": "stdout",
     "output_type": "stream",
     "text": [
      "\u001b[33m  WARNING: The scripts jupyter, jupyter-migrate and jupyter-troubleshoot are installed in '/root/.local/bin' which is not on PATH.\n",
      "  Consider adding this directory to PATH or, if you prefer to suppress this warning, use --no-warn-script-location.\u001b[0m\n",
      "\u001b[33m  WARNING: The scripts jupyter-kernel, jupyter-kernelspec and jupyter-run are installed in '/root/.local/bin' which is not on PATH.\n",
      "  Consider adding this directory to PATH or, if you prefer to suppress this warning, use --no-warn-script-location.\u001b[0m\n",
      "Note: you may need to restart the kernel to use updated packages.\n"
     ]
    }
   ],
   "source": [
    "%pip install --upgrade --quiet jupyter_client ipywidgets"
   ]
  },
  {
   "cell_type": "code",
   "execution_count": 2,
   "metadata": {},
   "outputs": [],
   "source": [
    "## This cell contains the essential imports you will need – DO NOT CHANGE THE CONTENTS! ##\n",
    "import torch\n",
    "import torch.nn as nn\n",
    "import torch.nn.functional as F\n",
    "import torch.optim as optim\n",
    "import torchvision\n",
    "import torchvision.transforms as transforms\n",
    "from torchvision.transforms import ToTensor\n",
    "import matplotlib.pyplot as plt\n",
    "import numpy as np\n",
    "from torch.utils.data.sampler import SubsetRandomSampler"
   ]
  },
  {
   "cell_type": "code",
   "execution_count": 3,
   "metadata": {},
   "outputs": [
    {
     "data": {
      "text/plain": [
       "device(type='cuda')"
      ]
     },
     "execution_count": 3,
     "metadata": {},
     "output_type": "execute_result"
    }
   ],
   "source": [
    "device = torch.device('cuda' if torch.cuda.is_available() else 'cpu')\n",
    "device"
   ]
  },
  {
   "cell_type": "markdown",
   "metadata": {},
   "source": [
    "## Load the Dataset\n",
    "\n",
    "Specify your transforms as a list if you intend to .\n",
    "The transforms module is already loaded as `transforms`.\n",
    "\n",
    "MNIST is fortunately included in the torchvision module.\n",
    "Then, you can create your dataset using the `MNIST` object from `torchvision.datasets` ([the documentation is available here](https://pytorch.org/vision/stable/datasets.html#mnist)).\n",
    "Make sure to specify `download=True`! \n",
    "\n",
    "Once your dataset is created, you'll also need to define a `DataLoader` from the `torch.utils.data` module for both the train and the test set."
   ]
  },
  {
   "cell_type": "code",
   "execution_count": 4,
   "metadata": {
    "scrolled": true
   },
   "outputs": [
    {
     "name": "stderr",
     "output_type": "stream",
     "text": [
      "/opt/conda/lib/python3.7/site-packages/torchvision/datasets/mnist.py:498: UserWarning: The given NumPy array is not writable, and PyTorch does not support non-writable tensors. This means writing to this tensor will result in undefined behavior. You may want to copy the array to protect its data or make it writable before converting it to a tensor. This type of warning will be suppressed for the rest of this program. (Triggered internally at  ../torch/csrc/utils/tensor_numpy.cpp:178.)\n",
      "  return torch.from_numpy(parsed.astype(m[2], copy=False)).view(*s)\n"
     ]
    }
   ],
   "source": [
    "batch_size = 250\n",
    "valid_size = 0.2\n",
    "# Define transforms\n",
    "# convert data to torch.FloatTensor\n",
    "transform = transforms.ToTensor()\n",
    "\n",
    "# Create training set and define training dataloader\n",
    "train_data = torchvision.datasets.MNIST(root='data', train=True, download=True, transform=transform)\n",
    "\n",
    "# Create test set and define test dataloader\n",
    "test_data = torchvision.datasets.MNIST(root='data', train=False, download=True, transform=transform)\n",
    "\n",
    "# obtain training indices that will be used for validation\n",
    "num_train = len(train_data)\n",
    "indices = list(range(num_train))\n",
    "np.random.shuffle(indices)\n",
    "split = int(np.floor(valid_size * num_train))\n",
    "train_idx, valid_idx = indices[split:], indices[:split]\n",
    "\n",
    "# define samplers for obtaining training and validation batches\n",
    "train_sampler = SubsetRandomSampler(train_idx)\n",
    "valid_sampler = SubsetRandomSampler(valid_idx)\n",
    "\n",
    "# prepare data loaders\n",
    "train_loader = torch.utils.data.DataLoader(train_data, batch_size=batch_size, sampler=train_sampler)\n",
    "valid_loader = torch.utils.data.DataLoader(train_data, batch_size=batch_size, sampler=valid_sampler)\n",
    "test_loader = torch.utils.data.DataLoader(test_data, batch_size=batch_size)"
   ]
  },
  {
   "cell_type": "markdown",
   "metadata": {},
   "source": [
    "## Justify your preprocessing\n",
    "\n",
    "In your own words, why did you choose the transforms you chose? If you didn't use any preprocessing steps, why not?"
   ]
  },
  {
   "cell_type": "markdown",
   "metadata": {},
   "source": [
    "The transforms.ToTensor() transformation is typically used to convert images from various formats  into tensors, which are multi-dimensional arrays, suitable for processing by deep learning models.\n",
    "\n",
    "By applying the transforms.ToTensor() transformation, each image is converted into a tensor where the pixel values are normalized to the range of [0, 1]. This normalization simplifies the learning process for the model, as the pixel values become consistent and comparable across different images."
   ]
  },
  {
   "cell_type": "markdown",
   "metadata": {},
   "source": [
    "## Explore the Dataset\n",
    "Using matplotlib, numpy, and torch, explore the dimensions of your data.\n",
    "\n",
    "You can view images using the `show5` function defined below – it takes a data loader as an argument.\n",
    "Remember that normalized images will look really weird to you! You may want to try changing your transforms to view images.\n",
    "Typically using no transforms other than `toTensor()` works well for viewing – but not as well for training your network.\n",
    "If `show5` doesn't work, go back and check your code for creating your data loaders and your training/test sets."
   ]
  },
  {
   "cell_type": "code",
   "execution_count": 5,
   "metadata": {},
   "outputs": [],
   "source": [
    "## This cell contains a function for showing 5 images from a dataloader – DO NOT CHANGE THE CONTENTS! ##\n",
    "def show5(img_loader):\n",
    "    dataiter = iter(img_loader)\n",
    "    \n",
    "    batch = next(dataiter)\n",
    "    labels = batch[1][0:5]\n",
    "    images = batch[0][0:5]\n",
    "    for i in range(5):\n",
    "        print(int(labels[i].detach()))\n",
    "    \n",
    "        image = images[i].numpy()\n",
    "        plt.imshow(image.T.squeeze().T)\n",
    "        plt.show()"
   ]
  },
  {
   "cell_type": "code",
   "execution_count": 6,
   "metadata": {},
   "outputs": [
    {
     "name": "stdout",
     "output_type": "stream",
     "text": [
      "8\n"
     ]
    },
    {
     "data": {
      "image/png": "[encoded data removed]",
      "text/plain": [
       "<Figure size 432x288 with 1 Axes>"
      ]
     },
     "metadata": {
      "needs_background": "light"
     },
     "output_type": "display_data"
    },
    {
     "name": "stdout",
     "output_type": "stream",
     "text": [
      "1\n"
     ]
    },
    {
     "data": {
      "image/png": "[encoded data removed]",
      "text/plain": [
       "<Figure size 432x288 with 1 Axes>"
      ]
     },
     "metadata": {
      "needs_background": "light"
     },
     "output_type": "display_data"
    },
    {
     "name": "stdout",
     "output_type": "stream",
     "text": [
      "4\n"
     ]
    },
    {
     "data": {
      "image/png": "[encoded data removed]",
      "text/plain": [
       "<Figure size 432x288 with 1 Axes>"
      ]
     },
     "metadata": {
      "needs_background": "light"
     },
     "output_type": "display_data"
    },
    {
     "name": "stdout",
     "output_type": "stream",
     "text": [
      "9\n"
     ]
    },
    {
     "data": {
      "image/png": "[encoded data removed]",
      "text/plain": [
       "<Figure size 432x288 with 1 Axes>"
      ]
     },
     "metadata": {
      "needs_background": "light"
     },
     "output_type": "display_data"
    },
    {
     "name": "stdout",
     "output_type": "stream",
     "text": [
      "8\n"
     ]
    },
    {
     "data": {
      "image/png": "[encoded data removed]",
      "text/plain": [
       "<Figure size 432x288 with 1 Axes>"
      ]
     },
     "metadata": {
      "needs_background": "light"
     },
     "output_type": "display_data"
    }
   ],
   "source": [
    "# Explore data\n",
    "## YOUR CODE HERE ##\n",
    "show5(train_loader)"
   ]
  },
  {
   "cell_type": "markdown",
   "metadata": {},
   "source": [
    "## Build your Neural Network\n",
    "Using the layers in `torch.nn` (which has been imported as `nn`) and the `torch.nn.functional` module (imported as `F`), construct a neural network based on the parameters of the dataset.\n",
    "Use any architecture you like. \n",
    "\n",
    "*Note*: If you did not flatten your tensors in your transforms or as part of your preprocessing and you are using only `Linear` layers, make sure to use the `Flatten` layer in your network!"
   ]
  },
  {
   "cell_type": "code",
   "execution_count": 7,
   "metadata": {},
   "outputs": [
    {
     "data": {
      "text/plain": [
       "Net(\n",
       "  (fc1): Linear(in_features=784, out_features=512, bias=True)\n",
       "  (fc2): Linear(in_features=512, out_features=512, bias=True)\n",
       "  (fc3): Linear(in_features=512, out_features=10, bias=True)\n",
       "  (dropout): Dropout(p=0.2, inplace=False)\n",
       ")"
      ]
     },
     "execution_count": 7,
     "metadata": {},
     "output_type": "execute_result"
    }
   ],
   "source": [
    "## YOUR CODE HERE ##\n",
    "class Net(nn.Module):\n",
    "    def __init__(self):\n",
    "        super(Net, self).__init__()\n",
    "        hidden_1 = 512\n",
    "        hidden_2 = 512\n",
    "        self.fc1 = nn.Linear(28 * 28, hidden_1)\n",
    "        self.fc2 = nn.Linear(hidden_1, hidden_2)\n",
    "        self.fc3 = nn.Linear(hidden_2, 10)\n",
    "        self.dropout = nn.Dropout(0.2)\n",
    "\n",
    "    def forward(self, x):\n",
    "        x = x.view(-1, 28 * 28)\n",
    "        x = F.relu(self.fc1(x))\n",
    "        x = self.dropout(x)\n",
    "        x = F.relu(self.fc2(x))\n",
    "        x = self.dropout(x)\n",
    "        x = self.fc3(x)\n",
    "        return x\n",
    "\n",
    "net= Net()\n",
    "net.to(device)"
   ]
  },
  {
   "cell_type": "markdown",
   "metadata": {},
   "source": [
    "Specify a loss function and an optimizer, and instantiate the model.\n",
    "\n",
    "If you use a less common loss function, please note why you chose that loss function in a comment."
   ]
  },
  {
   "cell_type": "code",
   "execution_count": 8,
   "metadata": {},
   "outputs": [],
   "source": [
    "criterion = nn.CrossEntropyLoss()\n",
    "optimizer = optim.Adam(net.parameters(), lr=0.001)"
   ]
  },
  {
   "cell_type": "markdown",
   "metadata": {},
   "source": [
    "## Running your Neural Network\n",
    "Use whatever method you like to train your neural network, and ensure you record the average loss at each epoch. \n",
    "Don't forget to use `torch.device()` and the `.to()` method for both your model and your data if you are using GPU!\n",
    "\n",
    "If you want to print your loss **during** each epoch, you can use the `enumerate` function and print the loss after a set number of batches. 250 batches works well for most people!"
   ]
  },
  {
   "cell_type": "code",
   "execution_count": 11,
   "metadata": {},
   "outputs": [
    {
     "name": "stdout",
     "output_type": "stream",
     "text": [
      "Epoch 1 training accuracy: 99.81% training loss: 0.00584\n",
      "Epoch 1 validation accuracy: 98.05% validation loss: 0.13254\n",
      "Epoch 2 training accuracy: 99.73% training loss: 0.00817\n",
      "Epoch 2 validation accuracy: 97.93% validation loss: 0.13036\n",
      "Epoch 3 training accuracy: 99.73% training loss: 0.00811\n",
      "Epoch 3 validation accuracy: 98.04% validation loss: 0.13612\n",
      "Epoch 4 training accuracy: 99.74% training loss: 0.00769\n",
      "Epoch 4 validation accuracy: 98.08% validation loss: 0.14387\n",
      "Epoch 5 training accuracy: 99.70% training loss: 0.00925\n",
      "Epoch 5 validation accuracy: 98.04% validation loss: 0.13679\n",
      "Epoch 6 training accuracy: 99.80% training loss: 0.00531\n",
      "Epoch 6 validation accuracy: 98.18% validation loss: 0.13827\n",
      "Epoch 7 training accuracy: 99.76% training loss: 0.00700\n",
      "Epoch 7 validation accuracy: 98.16% validation loss: 0.13996\n",
      "Epoch 8 training accuracy: 99.71% training loss: 0.00873\n",
      "Epoch 8 validation accuracy: 97.90% validation loss: 0.14414\n",
      "Epoch 9 training accuracy: 99.70% training loss: 0.00931\n",
      "Epoch 9 validation accuracy: 98.14% validation loss: 0.13696\n",
      "Epoch 10 training accuracy: 99.78% training loss: 0.00657\n",
      "Epoch 10 validation accuracy: 98.14% validation loss: 0.13333\n",
      "Epoch 11 training accuracy: 99.77% training loss: 0.00695\n",
      "Epoch 11 validation accuracy: 98.23% validation loss: 0.13771\n",
      "Epoch 12 training accuracy: 99.76% training loss: 0.00736\n",
      "Epoch 12 validation accuracy: 98.23% validation loss: 0.13594\n",
      "Epoch 13 training accuracy: 99.73% training loss: 0.00837\n",
      "Epoch 13 validation accuracy: 98.19% validation loss: 0.12686\n",
      "Epoch 14 training accuracy: 99.79% training loss: 0.00643\n",
      "Epoch 14 validation accuracy: 97.96% validation loss: 0.15990\n",
      "Epoch 15 training accuracy: 99.77% training loss: 0.00791\n",
      "Epoch 15 validation accuracy: 98.10% validation loss: 0.13701\n",
      "Epoch 16 training accuracy: 99.85% training loss: 0.00445\n",
      "Epoch 16 validation accuracy: 98.08% validation loss: 0.14436\n",
      "Epoch 17 training accuracy: 99.68% training loss: 0.00996\n",
      "Epoch 17 validation accuracy: 98.01% validation loss: 0.14391\n",
      "Epoch 18 training accuracy: 99.78% training loss: 0.00715\n",
      "Epoch 18 validation accuracy: 98.00% validation loss: 0.15061\n",
      "Epoch 19 training accuracy: 99.80% training loss: 0.00641\n",
      "Epoch 19 validation accuracy: 98.28% validation loss: 0.14095\n",
      "Epoch 20 training accuracy: 99.84% training loss: 0.00605\n",
      "Epoch 20 validation accuracy: 98.30% validation loss: 0.13418\n",
      "Epoch 21 training accuracy: 99.79% training loss: 0.00638\n",
      "Epoch 21 validation accuracy: 98.12% validation loss: 0.14880\n",
      "Epoch 22 training accuracy: 99.84% training loss: 0.00429\n",
      "Epoch 22 validation accuracy: 98.16% validation loss: 0.15691\n",
      "Epoch 23 training accuracy: 99.83% training loss: 0.00593\n",
      "Epoch 23 validation accuracy: 98.14% validation loss: 0.15945\n",
      "Epoch 24 training accuracy: 99.77% training loss: 0.00713\n",
      "Epoch 24 validation accuracy: 98.01% validation loss: 0.15131\n",
      "Epoch 25 training accuracy: 99.76% training loss: 0.00822\n",
      "Epoch 25 validation accuracy: 98.12% validation loss: 0.16339\n",
      "Epoch 26 training accuracy: 99.80% training loss: 0.00620\n",
      "Epoch 26 validation accuracy: 98.19% validation loss: 0.15252\n",
      "Epoch 27 training accuracy: 99.85% training loss: 0.00485\n",
      "Epoch 27 validation accuracy: 98.24% validation loss: 0.14636\n",
      "Epoch 28 training accuracy: 99.89% training loss: 0.00325\n",
      "Epoch 28 validation accuracy: 98.22% validation loss: 0.14706\n",
      "Epoch 29 training accuracy: 99.84% training loss: 0.00559\n",
      "Epoch 29 validation accuracy: 98.38% validation loss: 0.14033\n",
      "Epoch 30 training accuracy: 99.77% training loss: 0.00796\n",
      "Epoch 30 validation accuracy: 98.31% validation loss: 0.14498\n",
      "Epoch 31 training accuracy: 99.79% training loss: 0.00673\n",
      "Epoch 31 validation accuracy: 98.22% validation loss: 0.15488\n",
      "Epoch 32 training accuracy: 99.79% training loss: 0.00716\n",
      "Epoch 32 validation accuracy: 98.35% validation loss: 0.15457\n",
      "Epoch 33 training accuracy: 99.77% training loss: 0.00823\n",
      "Epoch 33 validation accuracy: 98.12% validation loss: 0.16126\n",
      "Epoch 34 training accuracy: 99.81% training loss: 0.00626\n",
      "Epoch 34 validation accuracy: 98.28% validation loss: 0.15665\n",
      "Epoch 35 training accuracy: 99.86% training loss: 0.00411\n",
      "Epoch 35 validation accuracy: 98.17% validation loss: 0.15613\n",
      "Epoch 36 training accuracy: 99.83% training loss: 0.00570\n",
      "Epoch 36 validation accuracy: 98.10% validation loss: 0.16337\n",
      "Epoch 37 training accuracy: 99.79% training loss: 0.00687\n",
      "Epoch 37 validation accuracy: 98.01% validation loss: 0.16103\n",
      "Epoch 38 training accuracy: 99.85% training loss: 0.00490\n",
      "Epoch 38 validation accuracy: 98.26% validation loss: 0.15600\n",
      "Epoch 39 training accuracy: 99.86% training loss: 0.00439\n",
      "Epoch 39 validation accuracy: 98.31% validation loss: 0.15962\n",
      "Epoch 40 training accuracy: 99.90% training loss: 0.00321\n",
      "Epoch 40 validation accuracy: 98.15% validation loss: 0.16928\n",
      "Epoch 41 training accuracy: 99.84% training loss: 0.00596\n",
      "Epoch 41 validation accuracy: 98.14% validation loss: 0.17331\n",
      "Epoch 42 training accuracy: 99.72% training loss: 0.01067\n",
      "Epoch 42 validation accuracy: 98.17% validation loss: 0.17189\n",
      "Epoch 43 training accuracy: 99.81% training loss: 0.00656\n",
      "Epoch 43 validation accuracy: 98.15% validation loss: 0.16815\n",
      "Epoch 44 training accuracy: 99.83% training loss: 0.00560\n",
      "Epoch 44 validation accuracy: 98.11% validation loss: 0.15649\n",
      "Epoch 45 training accuracy: 99.89% training loss: 0.00396\n",
      "Epoch 45 validation accuracy: 98.20% validation loss: 0.16650\n",
      "Epoch 46 training accuracy: 99.87% training loss: 0.00403\n",
      "Epoch 46 validation accuracy: 98.13% validation loss: 0.17133\n",
      "Epoch 47 training accuracy: 99.85% training loss: 0.00419\n",
      "Epoch 47 validation accuracy: 98.13% validation loss: 0.17188\n",
      "Epoch 48 training accuracy: 99.79% training loss: 0.00671\n",
      "Epoch 48 validation accuracy: 98.22% validation loss: 0.17676\n",
      "Epoch 49 training accuracy: 99.79% training loss: 0.00573\n",
      "Epoch 49 validation accuracy: 98.21% validation loss: 0.17822\n",
      "Epoch 50 training accuracy: 99.85% training loss: 0.00499\n",
      "Epoch 50 validation accuracy: 98.27% validation loss: 0.16185\n"
     ]
    }
   ],
   "source": [
    "num_epochs = 50\n",
    "\n",
    "# Establish a list for our history\n",
    "train_loss_history = list()\n",
    "val_loss_history = list()\n",
    "\n",
    "for epoch in range(num_epochs):\n",
    "    net.train()\n",
    "    train_loss = 0.0\n",
    "    train_correct = 0\n",
    "    num_train_samples=0.0\n",
    "    for i, data in enumerate(train_loader):\n",
    "        # data is a list of [inputs, labels]\n",
    "        inputs, labels = data\n",
    "        # Pass to GPU if available.\n",
    "        inputs, labels = inputs.to(device), labels.to(device)\n",
    "\n",
    "        optimizer.zero_grad()\n",
    "        outputs = net(inputs)\n",
    "        loss = criterion(outputs, labels)\n",
    "        loss.backward()\n",
    "        optimizer.step()\n",
    "        _, preds = torch.max(outputs.data, 1)\n",
    "        train_correct += (preds == labels).sum().item()\n",
    "        train_loss += loss.item()\n",
    "        num_train_samples += labels.shape[0]\n",
    "        \n",
    "    print(f'Epoch {epoch + 1} training accuracy: {(100 * train_correct/num_train_samples):.2f}% training loss: {train_loss/len(train_loader):.5f}')\n",
    "    train_loss_history.append(train_loss/len(train_loader))\n",
    "\n",
    "\n",
    "    val_loss = 0.0\n",
    "    val_correct = 0\n",
    "    num_val_samples=0.0\n",
    "    net.eval()\n",
    "    for inputs, labels in valid_loader:\n",
    "        inputs, labels = inputs.to(device), labels.to(device)\n",
    "\n",
    "        outputs = net(inputs)\n",
    "        loss = criterion(outputs, labels)\n",
    "        _, preds = torch.max(outputs.data, 1)\n",
    "        val_correct += (preds == labels).sum().item()\n",
    "        val_loss += loss.item()\n",
    "        num_val_samples += labels.shape[0]\n",
    "    print(f'Epoch {epoch + 1} validation accuracy: {(100 * val_correct/num_val_samples):.2f}% validation loss: {val_loss/len(test_loader):.5f}')\n",
    "    val_loss_history.append(val_loss/len(test_loader))"
   ]
  },
  {
   "cell_type": "markdown",
   "metadata": {},
   "source": [
    "Plot the training loss (and validation loss/accuracy, if recorded)."
   ]
  },
  {
   "cell_type": "code",
   "execution_count": 12,
   "metadata": {},
   "outputs": [
    {
     "data": {
      "image/png": "[encoded data removed]",
      "text/plain": [
       "<Figure size 432x288 with 1 Axes>"
      ]
     },
     "metadata": {
      "needs_background": "light"
     },
     "output_type": "display_data"
    }
   ],
   "source": [
    "# Plot the training and validation loss history\n",
    "plt.plot(train_loss_history, label=\"Training Loss\")\n",
    "plt.plot(val_loss_history, label=\"Validation Loss\")\n",
    "plt.legend()\n",
    "plt.show()"
   ]
  },
  {
   "cell_type": "markdown",
   "metadata": {},
   "source": [
    "## Testing your model\n",
    "Using the previously created `DataLoader` for the test set, compute the percentage of correct predictions using the highest probability prediction. \n",
    "\n",
    "If your accuracy is over 90%, great work, but see if you can push a bit further! \n",
    "If your accuracy is under 90%, you'll need to make improvements.\n",
    "Go back and check your model architecture, loss function, and optimizer to make sure they're appropriate for an image classification task."
   ]
  },
  {
   "cell_type": "code",
   "execution_count": 13,
   "metadata": {
    "scrolled": false
   },
   "outputs": [
    {
     "name": "stdout",
     "output_type": "stream",
     "text": [
      "Test Loss: 0.125659\n",
      "\n",
      "Test Accuracy of 0: 99.39% (974.0/980.0)\n",
      "Test Accuracy of 1: 99.38% (1128.0/1135.0)\n",
      "Test Accuracy of 2: 98.84% (1020.0/1032.0)\n",
      "Test Accuracy of 3: 98.81% (998.0/1010.0)\n",
      "Test Accuracy of 4: 97.86% (961.0/982.0)\n",
      "Test Accuracy of 5: 97.65% (871.0/892.0)\n",
      "Test Accuracy of 6: 98.12% (940.0/958.0)\n",
      "Test Accuracy of 7: 98.15% (1009.0/1028.0)\n",
      "Test Accuracy of 8: 96.61% (941.0/974.0)\n",
      "Test Accuracy of 9: 98.22% (991.0/1009.0)\n",
      "\n",
      "Test Accuracy (Overall): 98.33% (9833.0/10000.0)\n"
     ]
    }
   ],
   "source": [
    "## YOUR CODE HERE ##\n",
    "# initialize lists to monitor test loss and accuracy\n",
    "test_loss = 0.0\n",
    "class_correct = list(0. for i in range(10))\n",
    "class_total = list(0. for i in range(10))\n",
    "\n",
    "net.eval() # prep model for evaluation\n",
    "\n",
    "for inputs, labels in test_loader:\n",
    "    inputs, labels = inputs.to(device), labels.to(device)\n",
    "    \n",
    "    outputs = net(inputs)\n",
    "    loss = criterion(outputs, labels)\n",
    "    test_loss += loss.item()*labels.size(0)\n",
    "    _, pred = torch.max(outputs, 1)\n",
    "    correct = np.squeeze(pred.eq(labels.data.view_as(pred)))\n",
    "    for i in range(batch_size):\n",
    "        label = labels.data[i]\n",
    "        class_correct[label] += correct[i].item()\n",
    "        class_total[label] += 1\n",
    "\n",
    "# calculate and print avg test loss\n",
    "test_loss = test_loss/len(test_loader.dataset)\n",
    "print(f'Test Loss: {test_loss:.6f}\\n')\n",
    "\n",
    "for i in range(10):\n",
    "    if class_total[i] > 0:\n",
    "        print(f'Test Accuracy of {str(i)}: {100 * class_correct[i] / class_total[i]:.2f}% ({np.sum(class_correct[i])}/{ np.sum(class_total[i])})')\n",
    "    else:\n",
    "        print(f'Test Accuracy of {classes[i]}: N/A (no training examples)')\n",
    "\n",
    "print(f'\\nTest Accuracy (Overall): {100. * np.sum(class_correct) / np.sum(class_total):.2f}% ({np.sum(class_correct)}/{np.sum(class_total)})') "
   ]
  },
  {
   "cell_type": "markdown",
   "metadata": {},
   "source": [
    "## Improving your model\n",
    "\n",
    "Once your model is done training, try tweaking your hyperparameters and training again below to improve your accuracy on the test set!"
   ]
  },
  {
   "cell_type": "code",
   "execution_count": 14,
   "metadata": {},
   "outputs": [],
   "source": [
    "## YOUR CODE HERE ##"
   ]
  },
  {
   "cell_type": "markdown",
   "metadata": {},
   "source": [
    "## Saving your model\n",
    "Using `torch.save`, save your model for future loading."
   ]
  },
  {
   "cell_type": "code",
   "execution_count": 15,
   "metadata": {},
   "outputs": [],
   "source": [
    "## YOUR CODE HERE ##\n",
    "torch.save(net.state_dict(), 'model.pt')"
   ]
  },
  {
   "cell_type": "code",
   "execution_count": null,
   "metadata": {},
   "outputs": [],
   "source": []
  }
 ],
 "metadata": {
  "kernelspec": {
   "display_name": "Python 3",
   "language": "python",
   "name": "python3"
  },
  "language_info": {
   "codemirror_mode": {
    "name": "ipython",
    "version": 3
   },
   "file_extension": ".py",
   "mimetype": "text/x-python",
   "name": "python",
   "nbconvert_exporter": "python",
   "pygments_lexer": "ipython3",
   "version": "3.7.6"
  }
 },
 "nbformat": 4,
 "nbformat_minor": 4
}
