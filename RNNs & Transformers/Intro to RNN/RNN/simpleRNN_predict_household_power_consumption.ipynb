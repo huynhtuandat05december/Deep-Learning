{
 "cells": [
  {
   "cell_type": "markdown",
   "metadata": {},
   "source": [
    "# Predicting household power consumption using RNN"
   ]
  },
  {
   "cell_type": "code",
   "execution_count": null,
   "metadata": {},
   "outputs": [],
   "source": [
    "import torch\n",
    "import torch.nn as nn\n",
    "import numpy as np\n",
    "import pandas as pd\n",
    "import matplotlib.pyplot as plt"
   ]
  },
  {
   "cell_type": "markdown",
   "metadata": {},
   "source": [
    "The household power consumption dataset is taken from UCI Machine Learning Repository.\n",
    "- [Data Folder](https://archive.ics.uci.edu/ml/machine-learning-databases/00235/)\n",
    "- [Data Set Description](https://archive.ics.uci.edu/ml/datasets/individual+household+electric+power+consumption#)"
   ]
  },
  {
   "cell_type": "code",
   "execution_count": null,
   "metadata": {},
   "outputs": [],
   "source": [
    "raw_data = pd.read_csv(\"../data/household_power_consumption.txt\",\n",
    "                       delimiter=\";\",\n",
    "                       usecols=['Date', 'Time', 'Global_active_power'],\n",
    "                       low_memory=False)"
   ]
  },
  {
   "cell_type": "code",
   "execution_count": null,
   "metadata": {},
   "outputs": [],
   "source": [
    "def preprocess_data(df: pd.DataFrame) -> pd.DataFrame:\n",
    "    # concatenante the \"Date\" and \"Time\" columns to create a \"datetime\" column\n",
    "    # fix the data types of the \"datetime\" column and the \"Global_active_power\" column\n",
    "    df = df.assign(\n",
    "            datetime = lambda x: pd.to_datetime(x['Date'] + ' ' + x['Time']),\n",
    "            Global_active_power = lambda x: pd.to_numeric(x['Global_active_power'], errors='coerce'),\n",
    "        )\n",
    "    df = df.dropna(subset=['Global_active_power'])\n",
    "    df.sort_values(by='datetime', ascending=True, inplace=True)\n",
    "    df = df.set_index(\"datetime\")\n",
    "    df.drop(['Date', 'Time'], axis=1, inplace=True)\n",
    "\n",
    "    # normalize the data\n",
    "    max_power = df['Global_active_power'].max()\n",
    "    min_power = df['Global_active_power'].min()\n",
    "    df['Global_active_power'] = (df['Global_active_power'] - min_power) / (max_power - min_power)\n",
    "    return df, max_power, min_power\n",
    "\n",
    "data, max_power, min_power = preprocess_data(raw_data)\n",
    "data.tail()"
   ]
  },
  {
   "cell_type": "code",
   "execution_count": null,
   "metadata": {},
   "outputs": [],
   "source": [
    "# Visualize power for a day\n",
    "date1 ='2009-05-08'\n",
    "_ = data.loc[date1].plot(kind='line', y='Global_active_power', figsize=(10,6), grid=True)\n",
    "plt.show()\n",
    "plt.close()"
   ]
  },
  {
   "cell_type": "code",
   "execution_count": null,
   "metadata": {},
   "outputs": [],
   "source": [
    "train_size = int(len(data) * 0.8)\n",
    "train_data = data.iloc[:train_size].values\n",
    "test_data = data.iloc[train_size:].values\n",
    "\n",
    "def create_sequences(data, seq_len):\n",
    "    \"\"\"\n",
    "    data: numpy array\n",
    "        The input time series data\n",
    "    seq_len: int\n",
    "        The length of the input sequence\n",
    "    \"\"\"\n",
    "\n",
    "    # initialize empty lists\n",
    "    X = []\n",
    "    y = []\n",
    "    for i in range(seq_len, len(data)):\n",
    "        X.append(data[i-seq_len:i])\n",
    "        y.append(data[i])\n",
    "    return np.array(X), np.array(y)\n",
    "\n",
    "seq_len = 6   # number of past time steps to use for prediction, this is a hyperparameter\n",
    "\n",
    "# Create train and test sequences\n",
    "X_train, y_train = create_sequences(train_data, seq_len)\n",
    "X_test, y_test = create_sequences(test_data, seq_len)\n",
    "\n",
    "# convert numpy arrays to PyTorch tensors\n",
    "X_train = torch.from_numpy(X_train).float()\n",
    "y_train = torch.from_numpy(y_train).float()\n",
    "X_test = torch.from_numpy(X_test).float()\n",
    "y_test = torch.from_numpy(y_test).float()"
   ]
  },
  {
   "cell_type": "code",
   "execution_count": null,
   "metadata": {},
   "outputs": [],
   "source": [
    "class RNN(nn.Module):\n",
    "    def __init__(self, input_size, hidden_size, output_size):\n",
    "        super(RNN, self).__init__()\n",
    "        self.hidden_size = hidden_size\n",
    "        self.rnn = nn.RNN(input_size, hidden_size, batch_first=True)\n",
    "        self.fc = nn.Linear(hidden_size, output_size)\n",
    "\n",
    "    def forward(self, x, hidden):\n",
    "        out, hidden = self.rnn(x, hidden)\n",
    "        out = self.fc(out[:, -1, :])\n",
    "        return out, hidden"
   ]
  },
  {
   "cell_type": "markdown",
   "metadata": {},
   "source": [
    "**Explanation**:\n",
    "\n",
    "* First, the class is initialized with `input_size`, `hidden_size`, and `output_size`. These parameters define the size of the input, hidden state, and output of the RNN.\n",
    "* The `super(RNN, self).__init__()` line initializes the class as a subclass of the `nn.Module` class in PyTorch, which provides some useful methods for defining and training neural networks.\n",
    "* The `self.hidden_size = hidden_size` line sets the hidden size as an attribute of the class, so it can be accessed later in the forward method.\n",
    "* The `nn.RNN` module is defined with the `input_size` and `hidden_size` parameters. The `batch_first=True` parameter indicates that the input to the RNN will have the batch dimension as the first dimension.\n",
    "* The `nn.Linear` module is defined with the `hidden_size` and `output_size` parameters. This module will be used to map the final hidden state of the RNN to the output.\n",
    "* The forward method takes two arguments: `x` and `hidden`. `x` is the input to the RNN, which is a tensor of shape `(batch_size, seq_len, input_size)`. `hidden` is the initial hidden state of the RNN, which is a tensor of shape `(1, batch_size, hidden_size)`.\n",
    "* The `nn.RNN` module is called with `x` and `hidden` as inputs, and the output is stored in `out`. The `out` tensor has shape `(batch_size, seq_len, hidden_size)`, where `seq_len` is the length of the input sequence.\n",
    "* The `out[:, -1, :]` indexing extracts the last hidden state of the RNN for each sequence in the batch. This tensor has shape `(batch_size, hidden_size)`.\n",
    "* The `nn.Linear` module is called with the last hidden state as input, and the output is stored in `out`. The `out` tensor has shape `(batch_size, output_size)`.\n",
    "* Finally, the `out` and `hidden` tensors are returned as the output of the forward method.\n",
    "\n",
    "Overall, this code defines a simple RNN model that takes an input sequence, processes it with an RNN layer, and maps the final hidden state to an output."
   ]
  },
  {
   "cell_type": "markdown",
   "metadata": {},
   "source": [
    "### Set Hyperparameters"
   ]
  },
  {
   "cell_type": "code",
   "execution_count": null,
   "metadata": {},
   "outputs": [],
   "source": [
    "input_size = 1   # number of features in the input\n",
    "hidden_size = 32  # number of hidden units in the RNN layer\n",
    "output_size = 1  # number of output features\n",
    "learning_rate = 0.001\n",
    "num_epochs = 100\n",
    "\n",
    "# Tune the above hyperparameters for best results.\n",
    "\n",
    "model = RNN(input_size, hidden_size, output_size)\n",
    "criterion = nn.MSELoss()\n",
    "optimizer = torch.optim.Adam(model.parameters(), lr=learning_rate)"
   ]
  },
  {
   "cell_type": "markdown",
   "metadata": {},
   "source": [
    "### Training the model"
   ]
  },
  {
   "cell_type": "code",
   "execution_count": null,
   "metadata": {},
   "outputs": [],
   "source": [
    "for epoch in range(num_epochs):\n",
    "    # set the initial hidden state\n",
    "    hidden = torch.zeros(1, X_train.size(0), hidden_size)\n",
    "\n",
    "    # forward pass\n",
    "    outputs, hidden = model(X_train, hidden)\n",
    "    loss = criterion(outputs, y_train)\n",
    "\n",
    "    # backwards and optimizer\n",
    "    optimizer.zero_grad()\n",
    "    loss.backward()\n",
    "    optimizer.step()\n",
    "\n",
    "    # Print loss at every 10th epoch\n",
    "    if (epoch+1) % 10 == 0:\n",
    "        print(f'Epoch [{epoch+1}/{num_epochs}], Loss: {round(loss.item(), 4)}')"
   ]
  },
  {
   "cell_type": "markdown",
   "metadata": {},
   "source": [
    "**Explanation**\n",
    "\n",
    "* Loop through each epoch:\n",
    "`for epoch in range(num_epochs):`\n",
    "This loop iterates over the number of epochs specified in the num_epochs variable.\n",
    "* Initialize the hidden state:\n",
    "`hidden = torch.zeros(1, X_train.size(0), hidden_size)`\n",
    "The hidden state of the RNN is initialized to all zeros. The size of the tensor is `(1, batch_size, hidden_size)` where `batch_size` is the number of samples in the training data and `hidden_size` is the number of hidden units in the RNN layer.\n",
    "* Forward pass:\n",
    "`outputs, hidden = model(X_train, hidden)`\n",
    "The RNN model is passed the input `X_train` and the initial hidden state hidden to generate the outputs and update the hidden state. The outputs tensor has shape `(batch_size, seq_length, output_size)` where `seq_length` is the length of the input sequence and `output_size` is the number of output features.\n",
    "* Calculate loss:\n",
    "`loss = criterion(outputs, y_train)`\n",
    "The loss is calculated based on the predicted outputs and the ground truth `y_train` using the mean squared error (MSE) loss.\n",
    "* Backward pass and optimizer step:\n",
    "    ```\n",
    "    optimizer.zero_grad()\n",
    "    loss.backward()\n",
    "    optimizer.step()\n",
    "    ```\n",
    "    The gradients of the model parameters are zeroed out, and the loss is backpropagated through the network. The optimizer then updates the model parameters based on the gradients.\n",
    "* Print loss:\n",
    "    ```\n",
    "    if (epoch+1) % 10 == 0:\n",
    "        print(f'Epoch [{epoch+1}/{num_epochs}], Loss: {round(loss.item(), 4)}')\n",
    "    ```\n",
    "    The loss is printed every 10th epoch using string formatting. The round function is used to round the loss to 4 decimal places."
   ]
  },
  {
   "cell_type": "markdown",
   "metadata": {},
   "source": [
    "### Model Evaluation"
   ]
  },
  {
   "cell_type": "code",
   "execution_count": null,
   "metadata": {},
   "outputs": [],
   "source": [
    "# Set initial hidden state for test data\n",
    "hidden = torch.zeros(1, X_test.size(0), hidden_size)\n",
    "\n",
    "# Forward pass\n",
    "test_outputs, _ = model(X_test, hidden)\n",
    "\n",
    "# Inverse normalize the output and inputs\n",
    "test_outputs = (test_outputs * (max_power - min_power)) + min_power\n",
    "y_test = (y_test * (max_power - min_power)) + min_power\n",
    "\n",
    "# Compute the test loss\n",
    "test_loss = criterion(test_outputs, y_test)\n",
    "\n",
    "print(f'Test Loss: {round(test_loss.item(), 4)}')"
   ]
  },
  {
   "cell_type": "code",
   "execution_count": null,
   "metadata": {},
   "outputs": [],
   "source": [
    "# Convert the output and labels to numpy arrays\n",
    "test_outputs = test_outputs.detach().numpy()\n",
    "y_test = y_test.numpy()\n",
    "# Plot the first 100 actual and predicted values\n",
    "plt.plot(y_test[200:300], label='actual')\n",
    "plt.plot(test_outputs[200:300], label='predicted')\n",
    "plt.legend()\n",
    "plt.show()"
   ]
  },
  {
   "cell_type": "code",
   "execution_count": null,
   "metadata": {},
   "outputs": [],
   "source": []
  }
 ],
 "metadata": {
  "kernelspec": {
   "display_name": "Python 3 (ipykernel)",
   "language": "python",
   "name": "python3"
  },
  "language_info": {
   "codemirror_mode": {
    "name": "ipython",
    "version": 3
   },
   "file_extension": ".py",
   "mimetype": "text/x-python",
   "name": "python",
   "nbconvert_exporter": "python",
   "pygments_lexer": "ipython3",
   "version": "3.10.11"
  }
 },
 "nbformat": 4,
 "nbformat_minor": 1
}
